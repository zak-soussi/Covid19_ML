{
 "cells": [
  {
   "cell_type": "code",
   "execution_count": null,
   "outputs": [],
   "source": [
    "import matplotlib.pyplot as plt\n",
    "import pandas as pd\n",
    "from sklearn.model_selection import train_test_split , learning_curve\n",
    "from sklearn.tree import DecisionTreeClassifier\n",
    "from sklearn.metrics import f1_score , confusion_matrix , classification_report\n",
    "import numpy as np\n",
    "from sklearn.ensemble import RandomForestClassifier\n",
    "from sklearn.feature_selection import SelectKBest , f_classif\n",
    "from sklearn.preprocessing import PolynomialFeatures\n",
    "from sklearn.pipeline import make_pipeline\n",
    "from sklearn.impute import SimpleImputer\n",
    "from sklearn.decomposition import PCA"
   ],
   "metadata": {
    "collapsed": false
   }
  },
  {
   "cell_type": "code",
   "execution_count": null,
   "outputs": [],
   "source": [
    "pd.set_option('display.max_row', 111)\n",
    "pd.set_option('display.max_column', 111)"
   ],
   "metadata": {
    "collapsed": false
   }
  },
  {
   "cell_type": "markdown",
   "source": [
    "Selecting the best features from the dataset based on EDA"
   ],
   "metadata": {
    "collapsed": false
   }
  },
  {
   "cell_type": "code",
   "execution_count": null,
   "outputs": [],
   "source": [
    "dataset = pd.read_excel('dataset.xlsx')\n",
    "feature_presence = dataset.isna().sum() / dataset.shape[0]\n",
    "feature_continuos_category = list(dataset.columns[(feature_presence < 0.9) & (feature_presence > 0.88)])\n",
    "feature_categorial_category = list(dataset.columns[(feature_presence < 0.8) & (feature_presence > 0.7)])\n",
    "dataset = dataset[\n",
    "      feature_continuos_category + ['Patient age quantile', \"SARS-Cov-2 exam result\"] + feature_categorial_category]"
   ],
   "metadata": {
    "collapsed": false
   }
  },
  {
   "cell_type": "markdown",
   "source": [
    "Splitting our data into Train / Test"
   ],
   "metadata": {
    "collapsed": false
   }
  },
  {
   "cell_type": "code",
   "execution_count": null,
   "outputs": [],
   "source": [
    "train_set, test_set = train_test_split(dataset, test_size=0.2, random_state=0)\n",
    "print('Target distribution in the train set')\n",
    "print(train_set[\"SARS-Cov-2 exam result\"].value_counts())\n",
    "print('Target distribution in the test set')\n",
    "print(test_set[\"SARS-Cov-2 exam result\"].value_counts())"
   ],
   "metadata": {
    "collapsed": false
   }
  },
  {
   "cell_type": "markdown",
   "source": [
    "Encodage"
   ],
   "metadata": {
    "collapsed": false
   }
  },
  {
   "cell_type": "code",
   "execution_count": null,
   "outputs": [],
   "source": [
    "convert = {\n",
    "    'negative': 0,\n",
    "    'not_detected': 0,\n",
    "    'positive': 1,\n",
    "    'detected': 1\n",
    "}\n",
    "\n",
    "\n",
    "def encodage(dataset):\n",
    "    for col in dataset.select_dtypes(\"object\"):\n",
    "        dataset[col]=dataset[col].map(convert)\n",
    "    return dataset"
   ],
   "metadata": {
    "collapsed": false
   }
  },
  {
   "cell_type": "markdown",
   "source": [
    "Feature Engineering"
   ],
   "metadata": {
    "collapsed": false
   }
  },
  {
   "cell_type": "code",
   "execution_count": null,
   "outputs": [],
   "source": [
    "def feature_engineering(dataset):\n",
    "    dataset['infected_by_any_type'] = dataset[feature_categorial_category].sum(axis=1) >= 1\n",
    "    dataset = dataset.drop(feature_categorial_category,axis=1)\n",
    "    return dataset"
   ],
   "metadata": {
    "collapsed": false
   }
  },
  {
   "cell_type": "markdown",
   "source": [
    "Imputation"
   ],
   "metadata": {
    "collapsed": false
   }
  },
  {
   "cell_type": "code",
   "execution_count": null,
   "outputs": [],
   "source": [
    "def imputation(dataset):\n",
    "    #Trying different ideas to achieve the best possible dataset\n",
    "\n",
    "\n",
    "    dataset = dataset.dropna()\n",
    "\n",
    "    #Another Idea\n",
    "    # dataset['checking_nan'] = dataset['Respiratory Syncytial Virus'].isna() | dataset['Mean corpuscular hemoglobin concentration (MCHC)']\n",
    "    # dataset.fillna(111111,inplace=True)\n",
    "\n",
    "    #Another one\n",
    "    # imputer =make_pipeline(SimpleImputer(strategy='mean'))\n",
    "    # dataset[feature_continuos_category] = imputer.fit_transform(dataset[feature_continuos_category])\n",
    "\n",
    "    return dataset"
   ],
   "metadata": {
    "collapsed": false
   }
  },
  {
   "cell_type": "markdown",
   "source": [
    "PreProcessing"
   ],
   "metadata": {
    "collapsed": false
   }
  },
  {
   "cell_type": "code",
   "execution_count": null,
   "outputs": [],
   "source": [
    "def preprocessing(dataset):\n",
    "    dataset = encodage(dataset)\n",
    "    dataset = feature_engineering(dataset)\n",
    "    dataset = imputation(dataset)\n",
    "    target = dataset[\"SARS-Cov-2 exam result\"]\n",
    "    dataset=dataset.drop(\"SARS-Cov-2 exam result\",axis=1)\n",
    "    return dataset , target\n",
    "\n",
    "\n",
    "x_train , y_train = preprocessing(train_set)\n",
    "x_test , y_test = preprocessing(test_set)"
   ],
   "metadata": {
    "collapsed": false
   }
  },
  {
   "cell_type": "markdown",
   "source": [
    "Modelisation"
   ],
   "metadata": {
    "collapsed": false
   }
  },
  {
   "cell_type": "code",
   "execution_count": null,
   "outputs": [],
   "source": [
    "#Trying different models\n",
    "\n",
    "simple_model = DecisionTreeClassifier(random_state=0)\n",
    "# model = make_pipeline(PolynomialFeatures(2),PCA(n_components=0.96),RandomForestClassifier(random_state=0))\n",
    "more_complex_model = make_pipeline(PolynomialFeatures(2),SelectKBest(f_classif,k=5),RandomForestClassifier(random_state=0))"
   ],
   "metadata": {
    "collapsed": false
   }
  },
  {
   "cell_type": "markdown",
   "source": [
    "Evaluation"
   ],
   "metadata": {
    "collapsed": false
   }
  },
  {
   "cell_type": "code",
   "execution_count": null,
   "outputs": [],
   "source": [
    "def evaluation(model):\n",
    "    model.fit(x_train,y_train)\n",
    "    y_predicted = model.predict(x_test)\n",
    "    print(confusion_matrix(y_true=y_test , y_pred= y_predicted),classification_report(y_true=y_test,y_pred=y_predicted))\n",
    "    N , train_score , val_score = learning_curve(model,x_train,y_train,cv=5,scoring='f1',random_state=0,train_sizes=np.linspace(0.1,1,10))\n",
    "    plt.figure()\n",
    "    plt.plot(N,train_score.mean(axis=1),label=\"Train Score\")\n",
    "    plt.plot(N,val_score.mean(axis=1),label=\"Validation Score\")\n",
    "    plt.legend()\n"
   ],
   "metadata": {
    "collapsed": false
   }
  },
  {
   "cell_type": "markdown",
   "source": [
    "Comparisons  and Analysis"
   ],
   "metadata": {
    "collapsed": false
   }
  },
  {
   "cell_type": "code",
   "execution_count": null,
   "outputs": [],
   "source": [
    "evaluation(simple_model)\n",
    "pd.DataFrame(simple_model.feature_importances_, index= x_train.columns).plot.bar()\n",
    "evaluation(more_complex_model)"
   ],
   "metadata": {
    "collapsed": false
   }
  },
  {
   "cell_type": "markdown",
   "source": [
    "Finding the best K value"
   ],
   "metadata": {
    "collapsed": false
   }
  },
  {
   "cell_type": "code",
   "execution_count": null,
   "outputs": [],
   "source": [
    "f1_scores = [0]\n",
    "best_k = 0\n",
    "for i in range(1,11):\n",
    "    iterating_model = make_pipeline(PolynomialFeatures(2),SelectKBest(f_classif,k=i),RandomForestClassifier(random_state=0))\n",
    "    iterating_model.fit(x_train,y_train)\n",
    "    scored = f1_score(y_true=y_test,y_pred=iterating_model.predict(x_test))\n",
    "    f1_scores.append(scored)\n",
    "    if scored > f1_scores[best_k]:\n",
    "        best_k = i\n",
    "plt.figure()\n",
    "plt.plot(f1_scores)\n",
    "plt.plot(best_k,f1_scores[best_k],'ro')\n",
    "\n",
    "best_k_model = make_pipeline(PolynomialFeatures(2),SelectKBest(f_classif,k=best_k),RandomForestClassifier(random_state=0))\n",
    "evaluation(best_k_model)"
   ],
   "metadata": {
    "collapsed": false
   }
  }
 ],
 "metadata": {
  "kernelspec": {
   "display_name": "Python 3",
   "language": "python",
   "name": "python3"
  },
  "language_info": {
   "codemirror_mode": {
    "name": "ipython",
    "version": 2
   },
   "file_extension": ".py",
   "mimetype": "text/x-python",
   "name": "python",
   "nbconvert_exporter": "python",
   "pygments_lexer": "ipython2",
   "version": "2.7.6"
  }
 },
 "nbformat": 4,
 "nbformat_minor": 0
}
