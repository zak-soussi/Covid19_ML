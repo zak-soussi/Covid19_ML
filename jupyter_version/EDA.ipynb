{
 "cells": [
  {
   "cell_type": "code",
   "execution_count": null,
   "metadata": {},
   "outputs": [],
   "source": [
    "import pandas as pd\n",
    "import seaborn as sns\n",
    "import matplotlib.pyplot as plt\n",
    "from scipy.stats import ttest_ind"
   ]
  },
  {
   "cell_type": "code",
   "execution_count": null,
   "metadata": {},
   "outputs": [],
   "source": [
    "pd.set_option('display.max_row', 111)\n",
    "pd.set_option('display.max_column', 111)"
   ]
  },
  {
   "cell_type": "markdown",
   "metadata": {},
   "source": [
    "Getting the dataset and determining the target column"
   ]
  },
  {
   "cell_type": "code",
   "execution_count": null,
   "metadata": {},
   "outputs": [],
   "source": [
    "dataset = pd.read_excel(\"./dataset.xlsx\")\n",
    "target = dataset[\"SARS-Cov-2 exam result\"]\n",
    "dataset = dataset.drop(\"SARS-Cov-2 exam result\", axis=1)"
   ]
  },
  {
   "cell_type": "markdown",
   "metadata": {},
   "source": [
    "Feature types"
   ]
  },
  {
   "cell_type": "code",
   "execution_count": null,
   "metadata": {},
   "outputs": [],
   "source": [
    "dataset.dtypes.value_counts()"
   ]
  },
  {
   "cell_type": "markdown",
   "metadata": {},
   "source": [
    "Missing values"
   ]
  },
  {
   "cell_type": "code",
   "execution_count": null,
   "metadata": {},
   "outputs": [],
   "source": [
    "feature_presence = (dataset.isna().sum() / dataset.shape[0]).sort_values()\n",
    "print(feature_presence)\n",
    "sns.heatmap(dataset.isna(), cbar=False)"
   ]
  },
  {
   "cell_type": "markdown",
   "metadata": {},
   "source": [
    "Target Visualization"
   ]
  },
  {
   "cell_type": "code",
   "execution_count": null,
   "metadata": {},
   "outputs": [],
   "source": [
    "target.value_counts().plot.pie()"
   ]
  },
  {
   "cell_type": "markdown",
   "metadata": {},
   "source": [
    "Removing unimportant features"
   ]
  },
  {
   "cell_type": "code",
   "execution_count": null,
   "metadata": {},
   "outputs": [],
   "source": [
    "delete_feature = [x for x in feature_presence.index if feature_presence[x] > 0.9]\n",
    "delete_feature.append('Patient ID')\n",
    "dataset = dataset.drop(delete_feature, axis=1)"
   ]
  },
  {
   "cell_type": "markdown",
   "metadata": {},
   "source": [
    "Visualisation des variables continues"
   ]
  },
  {
   "cell_type": "code",
   "execution_count": null,
   "metadata": {},
   "outputs": [],
   "source": [
    "float_features = [col for col in dataset.columns if dataset[col].dtype == 'float']\n",
    "for feature in float_features:\n",
    "    sns.displot(x=feature, data=dataset, hue=target, kde=True)"
   ]
  },
  {
   "cell_type": "markdown",
   "metadata": {},
   "source": [
    "Visualisation des variables categorielles"
   ]
  },
  {
   "cell_type": "code",
   "execution_count": null,
   "metadata": {},
   "outputs": [],
   "source": [
    "df_object_features = dataset.select_dtypes('object')\n",
    "for col in df_object_features:\n",
    "    print(f'{col :-<40} {dataset[col].unique()}')\n",
    "dataset.drop('Parainfluenza 2', axis=1, inplace=True)\n",
    "df_object_features.drop('Parainfluenza 2', axis=1, inplace=True)\n",
    "for i in range(4):\n",
    "    plt.figure()\n",
    "    sns.boxplot(x=df_object_features.columns[i], y=float_features[i], data=dataset, hue=target)\n",
    "for col in df_object_features:\n",
    "    plt.figure()\n",
    "    dataset[col].value_counts().plot.pie()"
   ]
  },
  {
   "cell_type": "markdown",
   "metadata": {},
   "source": [
    "Divide our features into groups"
   ]
  },
  {
   "cell_type": "code",
   "execution_count": null,
   "metadata": {},
   "outputs": [],
   "source": [
    "feature_presence = dataset.isna().sum() / dataset.shape[0]\n",
    "feature_continuos_category = dataset.columns[(feature_presence < 0.9) & (feature_presence > 0.88)]\n",
    "feature_categorial_category = dataset.columns[(feature_presence < 0.8) & (feature_presence > 0.7)]"
   ]
  },
  {
   "cell_type": "markdown",
   "metadata": {},
   "source": [
    "Relation target / features"
   ]
  },
  {
   "cell_type": "code",
   "execution_count": null,
   "outputs": [],
   "source": [
    "for col in feature_continuos_category:\n",
    "    sns.displot(x=col, data=dataset, hue=target, kind='kde')\n",
    "for col in feature_categorial_category:\n",
    "    plt.figure()\n",
    "    sns.heatmap(pd.crosstab(target, dataset[col]), annot=True, fmt='d')"
   ],
   "metadata": {
    "collapsed": false
   }
  },
  {
   "cell_type": "markdown",
   "source": [
    "Relation between continuos_features"
   ],
   "metadata": {
    "collapsed": false
   }
  },
  {
   "cell_type": "code",
   "execution_count": null,
   "outputs": [],
   "source": [
    "sns.clustermap(dataset[feature_continuos_category].corr())"
   ],
   "metadata": {
    "collapsed": false
   }
  },
  {
   "cell_type": "markdown",
   "source": [
    "Relation between numerical_features"
   ],
   "metadata": {
    "collapsed": false
   }
  },
  {
   "cell_type": "code",
   "execution_count": null,
   "outputs": [],
   "source": [
    "correlation_dataset = dataset.corr()\n",
    "for col in dataset.select_dtypes('int'):\n",
    "    print(f'Feature: {col}')\n",
    "    print(correlation_dataset[col].sort_values(ascending=False))\n",
    "    print('-' * 50)"
   ],
   "metadata": {
    "collapsed": false
   }
  },
  {
   "cell_type": "markdown",
   "source": [
    "How many maladies does a patient have?"
   ],
   "metadata": {
    "collapsed": false
   }
  },
  {
   "cell_type": "code",
   "execution_count": null,
   "outputs": [],
   "source": [
    "dataset['maladies_count'] = (dataset[feature_categorial_category] == 'detected').sum(axis=1)\n",
    "sns.countplot(x='maladies_count', data=dataset)"
   ],
   "metadata": {
    "collapsed": false
   }
  },
  {
   "cell_type": "markdown",
   "source": [
    "Exploring Nan values in depth"
   ],
   "metadata": {
    "collapsed": false
   }
  },
  {
   "cell_type": "code",
   "execution_count": null,
   "outputs": [],
   "source": [
    "continuos_dataset = dataset[feature_continuos_category]\n",
    "continuos_dataset['covid'] = target\n",
    "print('Target distribution in continuos_dataset')\n",
    "print(continuos_dataset.dropna()['covid'].value_counts(normalize=True))\n",
    "print('-' * 50)\n",
    "categorial_dataset = dataset[feature_categorial_category]\n",
    "categorial_dataset['covid'] = target\n",
    "print('Target distribution in categorial_dataset')\n",
    "print(categorial_dataset.dropna()['covid'].value_counts(normalize=True))"
   ],
   "metadata": {
    "collapsed": false
   }
  },
  {
   "cell_type": "markdown",
   "source": [
    "T-Test"
   ],
   "metadata": {
    "collapsed": false
   }
  },
  {
   "cell_type": "code",
   "execution_count": null,
   "outputs": [],
   "source": [
    "positive_dataset = dataset[target == 'positive']\n",
    "negative_dataset = dataset[target == 'negative']\n",
    "negative_dataset = negative_dataset.sample(positive_dataset.shape[0])\n",
    "\n",
    "def t_test(col):\n",
    "    limit = 0.02\n",
    "    stat, p = ttest_ind(positive_dataset[col].dropna(), negative_dataset[col].dropna())\n",
    "    if p < limit:\n",
    "        return \"HO à rejeter\"\n",
    "    else:\n",
    "        return  \"0\"\n",
    "\n",
    "for col in feature_continuos_category:\n",
    "    print(f'{col :-<50}{t_test(col)}')"
   ],
   "metadata": {
    "collapsed": false
   }
  }
 ],
 "metadata": {
  "kernelspec": {
   "display_name": "Python 3 (ipykernel)",
   "language": "python",
   "name": "python3"
  },
  "language_info": {
   "codemirror_mode": {
    "name": "ipython",
    "version": 3
   },
   "file_extension": ".py",
   "mimetype": "text/x-python",
   "name": "python",
   "nbconvert_exporter": "python",
   "pygments_lexer": "ipython3",
   "version": "3.7.8"
  }
 },
 "nbformat": 4,
 "nbformat_minor": 1
}
